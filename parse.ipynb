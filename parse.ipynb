{
 "cells": [
  {
   "cell_type": "code",
   "execution_count": 1,
   "id": "82d481aa",
   "metadata": {},
   "outputs": [],
   "source": [
    "import numpy as np\n",
    "from openai import OpenAI\n",
    "from typing import List\n",
    "import faiss\n",
    "import pickle\n",
    "import re\n",
    "from dotenv import load_dotenv"
   ]
  },
  {
   "cell_type": "code",
   "execution_count": 2,
   "id": "9aebc49e",
   "metadata": {},
   "outputs": [],
   "source": [
    "# 환경 변수 설정 (.env 또는 직접 설정)\n",
    "load_dotenv()\n",
    "\n",
    "client = OpenAI()\n",
    "\n",
    "# 2. 텍스트 파싱\n",
    "with open(\"benjamin.txt\", \"r\", encoding=\"utf-8\") as f:\n",
    "    raw_text = f.read()"
   ]
  },
  {
   "cell_type": "code",
   "execution_count": 3,
   "id": "5c411de7",
   "metadata": {},
   "outputs": [],
   "source": [
    "def split_by_section_number(text: str) -> List[str]:\n",
    "    sections = re.split(r\"(?=\\n\\d+\\.\\s)\", text.strip())  # '\\n1. ', '\\n2. ' 등으로 분리\n",
    "    return [section.strip() for section in sections if section.strip()]\n",
    "\n",
    "\n",
    "chunks = split_by_section_number(raw_text)\n",
    "result = chunks[:5] + chunks[8:]"
   ]
  },
  {
   "cell_type": "code",
   "execution_count": 4,
   "id": "29e710aa",
   "metadata": {},
   "outputs": [
    {
     "name": "stdout",
     "output_type": "stream",
     "text": [
      "✅ 벡터스토어 저장 완료\n",
      "🔍 검색 결과: ['1.\\t[Baudelaire as Allegorist]', '5. The Arcades Project\\nThe city was the seedbed of Benjamin’s ‘gothic’ Marxism (Cohen 1993); Paris its testing ground. All of Benjamin’s writings from the autumn of 1927 until his death in 1940 relate in one way or other to his great unfinished study ‘Paris—Capital of the Nineteenth Century’, otherwise known as The Arcades Project (Das Passagen-Werk), after its founding image, taken by Benjamin from the 1926 novel, Le Paysan de Paris, by the French surrealist Louis Aragon. This was a book of which Benjamin wrote: “I could never read more than two or three pages in bed at night before my heart started to beat so strongly that I had to lay the book aside.” (BA, 88) The arcades would become just one of five or six archetypal images of the psychosocial space of 19th-century Paris around which the project was organized—each paired with a particular, thematically representative individual. But it provided the model for the others, and its surrealist origin and liminal utopian impulse, neither quite inside nor out, established the wish-image and the dream-image—on the threshold of sleeping and waking—at the heart of a work that was initially conceived as a kind of ‘dialectical fairytale’. (The figure with whom ‘the arcades’ was paired was the utopian socialist Charles Fourier.) All of Benjamin’s major essays of the 1930s derived their impetus and orientation from his Arcades work, and served to defer its completion in the act of elaborating its elements. \\n\\nThis deferral was also, in part, the result of a process of maturation—a kind of ripening—immanent to the work itself. The Arcades was a vast and ambitious project, not simply in terms of the mass and breadth of its archival sources (sought out by Benjamin in the Bibliothèque Nationale in Paris), but also—indeed, primarily—with respect to its philosophical and historical intent, and the methodological and representational challenges it posed. Its sprawling, yet minutely investigated historical object was to act as the point of entry into the philosophically comprehended experience of metropolitan capitalism—not some past experience, or the experience of a past phase of capitalist development, but the experience of the capitalist metropolis in Benjamin’s own day—through the construction of a specific series of relations between its elements ‘then’ and ‘now’. The practice of research, conceptual organization and presentation that it involved was self-consciously conceived as a working model for a new, philosophically oriented, materialist historiography with political intent. Its final, fragmentary and ‘ruined’ status has come to stand not simply as the sign of a failure of completion, but as a paradigm of a form of constitutive incompletion that is characteristic of all systematically oriented knowledge under the conditions of modernity. In this respect, in its very failure to be actualized, it confirmed the fundamental historical and philosophical truth of Benjamin’s earlier analysis of the Romantic fragment—extending the genre in a hitherto unimagined way.\\n\\nIn the ebb and flow of its changing rhythms—additions, revisions, reformulations and retrievals—Benjamin’s Arcades Project provides an extraordinary case study in the labour of conceptual construction via the configuration and reconfiguration of archival materials. The voluminous ‘Notes and Materials’ that make up the Arcades as it has come down to us remained unpublished until 1982, finally appearing in English only in 1999 (GS V; AP). Only since their publication has it been possible to get a clear sense of the overall trajectory of Benjamin’s thought during this period—rendering redundant, or at least displacing, many of the polemics associated with previous cycles of reception. The notes and materials are organized into twenty-six alphabetically designated ‘convolutes’ (literally ‘bundles’) or folders, thematically defined by various objects (arcades, catacombs, barricades, iron constructions, mirrors, modes of lighting…), topics (fashion, boredom, theory of knowledge, theory of progress, painting, conspiracies…), figures (the collector, the flaneur, the automaton…), authors (Baudelaire, Fourier, Jung, Marx, Saint-Simon…) and their combinations. The project as a whole received two ‘exposés’ or summaries, in 1935 and 1939 (the second, in French). However, its scope and theoretical ambition—nothing less than a philosophical construction of “the primal history of the nineteenth century” (BA, 90)—joined with the circumstances of Benjamin’s life in exile (the constant need to earn money by writing and the uncertainty of a publisher for the project) to frustrate its realization. The only lengthy segment of completed text derives from the part devoted to Baudelaire (one of five parts in the 1939 exposé, cut down from six in the initial 1935 version): the second of its three projected sections, ‘The Paris of the Second Empire in Baudelaire’—although even this was never published in Benjamin’s lifetime. However, the central chapter of this section, ‘The Flaneur’, was revised and expanded (in part, in response to an exchange of letters with Adorno) into the essay ‘Some Motifs in Baudelaire’, which was published in the Institute’s journal, Zeitschrift für Sozialforschung (Journal for Social Research) in January 1940. A powerful compressed draft of material corresponding to the final section, on the commodity as a poetic object, exists as ‘Central Park’ (SW 4, 161–199). As the project evolved, and in response to the barriers to its realization, Baudelaire thus became increasingly central to Benjamin’s thinking. (‘Convolute J’, on Baudelaire, is by far the longest of the convolutes.) Encouraged by Horkheimer, Benjamin planned to publish the material on Baudelaire as a separate book, to be entitled, Charles Baudelaire: A Lyric Poet in the Era of High Capitalism. The development of this process, whereby a primal history of the nineteenth century gradually morphed into a book on Baudelaire and ‘high capitalism’, may be represented, diagrammatically, as follows.\\n\\nPARIS—CAPITAL OF THE NINETEENTH CENTURY (1939 Exposé)\\nA.\\tFourier, or the Arcades\\n(+)\\t[Daguerre, or the Panorama—only in the 1935 version]\\nB.\\tGrandville, or the World Exhibitions\\nC.\\tLouis Philippe, or the Interior\\nD.\\tBaudelaire, or the Streets of Paris\\n↳\\tCharles Baudelaire, A Lyric Poet in the Era of High Capitalism', '2.\\tThe Paris of the 2nd Empire in Baudelaire\\ni.\\tThe Bohème\\nii.\\tThe Flaneur*\\niii.\\tThe Modern']\n"
     ]
    }
   ],
   "source": [
    "# 3. OpenAI Embedding\n",
    "def get_embeddings(texts: List[str]) -> List[List[float]]:\n",
    "    response = client.embeddings.create(input=texts, model=\"text-embedding-3-small\")\n",
    "    return [e.embedding for e in response.data]\n",
    "\n",
    "embeddings = get_embeddings(chunks)\n",
    "\n",
    "# 4. FAISS 벡터스토어 저장\n",
    "dimension = len(embeddings[0])\n",
    "index = faiss.IndexFlatL2(dimension)\n",
    "index.add(np.array(embeddings).astype(\"float32\"))\n",
    "\n",
    "# 메타데이터 저장 (예: 청크 텍스트들)\n",
    "with open(\"faiss_chunks.pkl\", \"wb\") as f:\n",
    "    pickle.dump(chunks, f)\n",
    "\n",
    "faiss.write_index(index, \"faiss_index.idx\")\n",
    "print(\"✅ 벡터스토어 저장 완료\")\n",
    "\n",
    "\n",
    "# 5. (선택) 검색 테스트\n",
    "def search(query: str, k: int = 3):\n",
    "    q_embedding = get_embeddings([query])[0]\n",
    "    D, I = index.search(np.array([q_embedding]).astype(\"float32\"), k)\n",
    "    with open(\"faiss_chunks.pkl\", \"rb\") as f:\n",
    "        stored_chunks = pickle.load(f)\n",
    "    return [stored_chunks[i] for i in I[0]]\n",
    "\n",
    "\n",
    "# 예시 검색\n",
    "results = search(\"벡터로 변환\")\n",
    "print(\"🔍 검색 결과:\", results)"
   ]
  },
  {
   "cell_type": "code",
   "execution_count": null,
   "id": "74f395f7",
   "metadata": {},
   "outputs": [],
   "source": []
  }
 ],
 "metadata": {
  "kernelspec": {
   "display_name": "venv",
   "language": "python",
   "name": "python3"
  },
  "language_info": {
   "codemirror_mode": {
    "name": "ipython",
    "version": 3
   },
   "file_extension": ".py",
   "mimetype": "text/x-python",
   "name": "python",
   "nbconvert_exporter": "python",
   "pygments_lexer": "ipython3",
   "version": "3.9.6"
  }
 },
 "nbformat": 4,
 "nbformat_minor": 5
}
